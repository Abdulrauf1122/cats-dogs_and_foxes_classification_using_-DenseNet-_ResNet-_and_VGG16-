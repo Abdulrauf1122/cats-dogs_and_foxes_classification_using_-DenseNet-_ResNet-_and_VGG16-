{
 "cells": [
  {
   "cell_type": "code",
   "execution_count": 1,
   "id": "2a33924a-5507-4345-8a77-2f258c707427",
   "metadata": {},
   "outputs": [],
   "source": [
    "import os\n",
    "import json\n",
    "import numpy as np\n",
    "import pandas as pd\n",
    "import seaborn as sns\n",
    "from tensorflow import keras\n",
    "import tensorflow as tf\n",
    "import matplotlib.pyplot as plt\n",
    "from tensorflow.keras.callbacks import ModelCheckpoint, CSVLogger\n",
    "from sklearn.metrics import confusion_matrix, classification_report\n",
    "from tensorflow.keras.models import load_model\n",
    "from tensorflow.keras.preprocessing.image import ImageDataGenerator, load_img, img_to_array\n",
    "from tensorflow.keras.applications.densenet import DenseNet121, preprocess_input\n",
    "from tensorflow.keras.applications.vgg16 import VGG16, preprocess_input\n",
    "from tensorflow.keras.applications.resnet_v2 import ResNet101V2, preprocess_input\n",
    "from keras.layers import GlobalAveragePooling2D, Dropout, Dense\n",
    "from sklearn.preprocessing import LabelEncoder\n",
    "from PIL import Image\n",
    "from tensorflow.keras.applications import DenseNet121\n",
    "from tensorflow.keras import layers, models\n",
    "from keras.models import Model\n",
    "import tensorflow as tf"
   ]
  },
  {
   "cell_type": "markdown",
   "id": "6dcdf793-5ddb-4b0d-bf60-318d7e582804",
   "metadata": {},
   "source": [
    "Train / Test / Validation Paths"
   ]
  },
  {
   "cell_type": "code",
   "execution_count": 2,
   "id": "b550850a-e4e2-4718-bcd3-693058282764",
   "metadata": {},
   "outputs": [],
   "source": [
    "train_dataset_path = \"dataset/train\"\n",
    "test_dataset_path = \"dataset/test\"\n",
    "validation_dataset_path = \"dataset/val\""
   ]
  },
  {
   "cell_type": "code",
   "execution_count": 10,
   "id": "b0130c64-3016-418d-9981-7152ed6717d4",
   "metadata": {},
   "outputs": [],
   "source": [
    "# Set the parameters for training\n",
    "image_size = (224, 224)\n",
    "batch_size = 16"
   ]
  },
  {
   "cell_type": "markdown",
   "id": "1f8a33c3-7d31-4ea6-af01-593e6a4ade9f",
   "metadata": {},
   "source": [
    "List of classes "
   ]
  },
  {
   "cell_type": "code",
   "execution_count": 11,
   "id": "8b0be44a-eb9d-4d1c-8294-6cfe73a83259",
   "metadata": {},
   "outputs": [],
   "source": [
    "# Get the list of class names from the training dataset\n",
    "disease_categories = sorted(os.listdir(train_dataset_path))\n",
    "\n",
    "# Initialize the label encoder\n",
    "label_encoder = LabelEncoder()\n",
    "\n",
    "# Create an image data generator\n",
    "data_generator = ImageDataGenerator(preprocessing_function=preprocess_input)"
   ]
  },
  {
   "cell_type": "markdown",
   "id": "4e9f5390-ea78-4dd7-9f55-eec2b91cc4cf",
   "metadata": {},
   "source": [
    "Generators for loading images"
   ]
  },
  {
   "cell_type": "code",
   "execution_count": 12,
   "id": "4588a6a7-e9cf-4aa6-aa15-da624bd3327d",
   "metadata": {},
   "outputs": [
    {
     "name": "stdout",
     "output_type": "stream",
     "text": [
      "Found 248 images belonging to 3 classes.\n"
     ]
    }
   ],
   "source": [
    "# Create a generator for loading the training data\n",
    "train_generator = data_generator.flow_from_directory(\n",
    "    train_dataset_path,  # Path to the training dataset\n",
    "    target_size = image_size,\n",
    "    batch_size = batch_size,\n",
    "    class_mode='categorical',\n",
    "    shuffle=True\n",
    ")"
   ]
  },
  {
   "cell_type": "code",
   "execution_count": 13,
   "id": "5c431413-f5d1-48fd-9e54-873055f7ec08",
   "metadata": {},
   "outputs": [
    {
     "name": "stdout",
     "output_type": "stream",
     "text": [
      "Found 30 images belonging to 3 classes.\n"
     ]
    }
   ],
   "source": [
    "# Create a generator for loading the testing data\n",
    "test_generator = data_generator.flow_from_directory(\n",
    "    test_dataset_path,  # Path to the testing dataset\n",
    "    target_size=image_size,\n",
    "    batch_size=batch_size,\n",
    "    class_mode='categorical',\n",
    "    shuffle=False  # No need to shuffle the testing data\n",
    ")\n"
   ]
  },
  {
   "cell_type": "code",
   "execution_count": 14,
   "id": "3fc1f567-3717-40b1-8e4a-003900060cc8",
   "metadata": {},
   "outputs": [
    {
     "name": "stdout",
     "output_type": "stream",
     "text": [
      "Found 31 images belonging to 3 classes.\n"
     ]
    }
   ],
   "source": [
    "# Create a generator for loading the validation data\n",
    "validation_generator = data_generator.flow_from_directory(\n",
    "    validation_dataset_path,  # Path to the validation dataset folder\n",
    "    target_size=image_size,\n",
    "    batch_size=batch_size,\n",
    "    class_mode='categorical',\n",
    "    shuffle=False  # No need to shuffle the validation data\n",
    ")"
   ]
  },
  {
   "cell_type": "code",
   "execution_count": 15,
   "id": "0c0848f4-ed47-48fc-9236-a462af8fecd6",
   "metadata": {},
   "outputs": [],
   "source": [
    "# Get the label mappings from the generator\n",
    "label_mappings = train_generator.class_indices\n",
    "\n",
    "# Convert the label mappings to integer labels\n",
    "integer_labels = label_encoder.fit_transform(list(label_mappings.keys()))"
   ]
  },
  {
   "cell_type": "markdown",
   "id": "193b2a47-bc57-4350-83dd-c9b9f0a04a01",
   "metadata": {},
   "source": [
    "Densenet121"
   ]
  },
  {
   "cell_type": "code",
   "execution_count": 16,
   "id": "a133f510-c0a5-4101-aa09-3434192de600",
   "metadata": {},
   "outputs": [],
   "source": [
    "# Load the DenseNet121 pre-trained model without the top layer\n",
    "base_model = DenseNet121(include_top=False, weights=\"imagenet\", input_shape=(224, 224, 3))\n",
    "\n",
    "# Freeze the pre-trained layers\n",
    "for layer in base_model.layers:\n",
    "    layer.trainable = False\n",
    "\n",
    "# Build the model architecture\n",
    "x = base_model.output\n",
    "x = layers.GlobalAveragePooling2D()(x)  # Use the output of the last convolutional layer\n",
    "x = layers.Dropout(0.5)(x)  # Adding a dropout layer\n",
    "x = layers.Dense(len(disease_categories), activation=\"softmax\")(x)\n",
    "\n",
    "model = models.Model(inputs=base_model.input, outputs=x)\n",
    "\n",
    "# Compile the model\n",
    "model.compile(optimizer=\"adam\", loss=\"categorical_crossentropy\", metrics=[\"accuracy\"])"
   ]
  },
  {
   "cell_type": "code",
   "execution_count": 17,
   "id": "bc5f067d-81b6-4ebc-90d7-1edfd6d4db3c",
   "metadata": {},
   "outputs": [
    {
     "name": "stdout",
     "output_type": "stream",
     "text": [
      "Epoch 1/25\n",
      "7/7 [==============================] - 24s 2s/step - loss: 1.9508 - accuracy: 0.3214\n",
      "Epoch 2/25\n",
      "7/7 [==============================] - 13s 2s/step - loss: 1.4797 - accuracy: 0.4327\n",
      "Epoch 3/25\n",
      "7/7 [==============================] - 10s 1s/step - loss: 0.8036 - accuracy: 0.6538\n",
      "Epoch 4/25\n",
      "7/7 [==============================] - 11s 2s/step - loss: 0.7008 - accuracy: 0.6923\n",
      "Epoch 5/25\n",
      "7/7 [==============================] - 11s 2s/step - loss: 0.6173 - accuracy: 0.7885\n",
      "Epoch 6/25\n",
      "7/7 [==============================] - 13s 2s/step - loss: 0.4845 - accuracy: 0.8482\n",
      "Epoch 7/25\n",
      "7/7 [==============================] - 13s 2s/step - loss: 0.5032 - accuracy: 0.8125\n",
      "Epoch 8/25\n",
      "7/7 [==============================] - 13s 2s/step - loss: 0.4031 - accuracy: 0.8482\n",
      "Epoch 9/25\n",
      "7/7 [==============================] - 11s 2s/step - loss: 0.3400 - accuracy: 0.8942\n",
      "Epoch 10/25\n",
      "7/7 [==============================] - 12s 2s/step - loss: 0.2518 - accuracy: 0.9135\n",
      "Epoch 11/25\n",
      "7/7 [==============================] - 9s 1s/step - loss: 0.2179 - accuracy: 0.9423\n",
      "Epoch 12/25\n",
      "7/7 [==============================] - 12s 2s/step - loss: 0.2244 - accuracy: 0.9375\n",
      "Epoch 13/25\n",
      "7/7 [==============================] - 11s 2s/step - loss: 0.2556 - accuracy: 0.9107\n",
      "Epoch 14/25\n",
      "7/7 [==============================] - 13s 2s/step - loss: 0.2045 - accuracy: 0.9464\n",
      "Epoch 15/25\n",
      "7/7 [==============================] - 11s 1s/step - loss: 0.1935 - accuracy: 0.9327\n",
      "Epoch 16/25\n",
      "7/7 [==============================] - 12s 2s/step - loss: 0.1595 - accuracy: 0.9375\n",
      "Epoch 17/25\n",
      "7/7 [==============================] - 11s 2s/step - loss: 0.1228 - accuracy: 0.9615\n",
      "Epoch 18/25\n",
      "7/7 [==============================] - 12s 2s/step - loss: 0.1431 - accuracy: 0.9423\n",
      "Epoch 19/25\n",
      "7/7 [==============================] - 12s 2s/step - loss: 0.1659 - accuracy: 0.9375\n",
      "Epoch 20/25\n",
      "7/7 [==============================] - 13s 2s/step - loss: 0.1003 - accuracy: 0.9732\n",
      "Epoch 21/25\n",
      "7/7 [==============================] - 13s 2s/step - loss: 0.1189 - accuracy: 0.9519\n",
      "Epoch 22/25\n",
      "7/7 [==============================] - 12s 2s/step - loss: 0.1747 - accuracy: 0.9615\n",
      "Epoch 23/25\n",
      "7/7 [==============================] - 11s 1s/step - loss: 0.0868 - accuracy: 0.9808\n",
      "Epoch 24/25\n",
      "7/7 [==============================] - 12s 2s/step - loss: 0.1101 - accuracy: 0.9643\n",
      "Epoch 25/25\n",
      "7/7 [==============================] - 11s 2s/step - loss: 0.0856 - accuracy: 0.9732\n"
     ]
    }
   ],
   "source": [
    "# Fit the model\n",
    "history = model.fit(\n",
    "    train_generator,\n",
    "    steps_per_epoch=train_generator.samples // 32,\n",
    "    epochs=25,\n",
    "    validation_data=validation_generator,\n",
    "    validation_steps=validation_generator.samples // 32\n",
    ")"
   ]
  },
  {
   "cell_type": "code",
   "execution_count": 18,
   "id": "4afc8906-a64a-488b-b194-a37ab0a9f4d2",
   "metadata": {},
   "outputs": [
    {
     "name": "stdout",
     "output_type": "stream",
     "text": [
      "history saved successfully!\n"
     ]
    }
   ],
   "source": [
    "history_dict = history.history\n",
    "with open('DenseNet_history.json', 'w') as f:\n",
    "    json.dump(history_dict, f)\n",
    "print('history saved successfully!')"
   ]
  },
  {
   "cell_type": "code",
   "execution_count": 19,
   "id": "8a788043-e123-4030-bb05-d2c8665b8b01",
   "metadata": {},
   "outputs": [
    {
     "name": "stdout",
     "output_type": "stream",
     "text": [
      "Model saved successfully!\n"
     ]
    }
   ],
   "source": [
    "# Save the trained model\n",
    "model.save('densenet121_model.h5')\n",
    "print(\"Model saved successfully!\")"
   ]
  },
  {
   "cell_type": "code",
   "execution_count": 22,
   "id": "b2fb86b8-0d00-4e29-9311-264ccad8628c",
   "metadata": {},
   "outputs": [],
   "source": [
    "# Load the ResNet101 pre-trained model without the top layer\n",
    "base_model = ResNet101V2(include_top=False, weights=\"imagenet\", input_shape=(224, 224, 3))\n",
    "\n",
    "# Freeze the pre-trained layers\n",
    "for layer in base_model.layers:\n",
    "    layer.trainable = False\n",
    "\n",
    "# Build the model architecture\n",
    "x = base_model.output\n",
    "x = layers.GlobalAveragePooling2D()(x)  # Use the output of the last convolutional layer\n",
    "x = layers.Dropout(0.5)(x)  # Adding a dropout layer\n",
    "x = layers.Dense(len(disease_categories), activation=\"softmax\")(x)\n",
    "\n",
    "model = models.Model(inputs=base_model.input, outputs=x)\n",
    "\n",
    "# Compile the model\n",
    "model.compile(optimizer=\"adam\", loss=\"categorical_crossentropy\", metrics=[\"accuracy\"])"
   ]
  },
  {
   "cell_type": "code",
   "execution_count": 23,
   "id": "e09b2381-37a9-4ca8-9865-af8d9977377f",
   "metadata": {},
   "outputs": [
    {
     "name": "stdout",
     "output_type": "stream",
     "text": [
      "Epoch 1/25\n",
      "7/7 [==============================] - 20s 2s/step - loss: 2.0407 - accuracy: 0.3393\n",
      "Epoch 2/25\n",
      "7/7 [==============================] - 12s 2s/step - loss: 0.8654 - accuracy: 0.6923\n",
      "Epoch 3/25\n",
      "7/7 [==============================] - 12s 2s/step - loss: 0.4045 - accuracy: 0.8393\n",
      "Epoch 4/25\n",
      "7/7 [==============================] - 12s 2s/step - loss: 0.2956 - accuracy: 0.9231\n",
      "Epoch 5/25\n",
      "7/7 [==============================] - 12s 2s/step - loss: 0.1121 - accuracy: 0.9615\n",
      "Epoch 6/25\n",
      "7/7 [==============================] - 10s 2s/step - loss: 0.2420 - accuracy: 0.9038\n",
      "Epoch 7/25\n",
      "7/7 [==============================] - 13s 2s/step - loss: 0.1369 - accuracy: 0.9519\n",
      "Epoch 8/25\n",
      "7/7 [==============================] - 11s 2s/step - loss: 0.1355 - accuracy: 0.9712\n",
      "Epoch 9/25\n",
      "7/7 [==============================] - 13s 2s/step - loss: 0.0910 - accuracy: 0.9643\n",
      "Epoch 10/25\n",
      "7/7 [==============================] - 14s 2s/step - loss: 0.0434 - accuracy: 1.0000\n",
      "Epoch 11/25\n",
      "7/7 [==============================] - 11s 2s/step - loss: 0.0436 - accuracy: 0.9904\n",
      "Epoch 12/25\n",
      "7/7 [==============================] - 12s 2s/step - loss: 0.0642 - accuracy: 0.9808\n",
      "Epoch 13/25\n",
      "7/7 [==============================] - 13s 2s/step - loss: 0.0619 - accuracy: 0.9643\n",
      "Epoch 14/25\n",
      "7/7 [==============================] - 12s 2s/step - loss: 0.0692 - accuracy: 0.9519\n",
      "Epoch 15/25\n",
      "7/7 [==============================] - 11s 2s/step - loss: 0.1191 - accuracy: 0.9519\n",
      "Epoch 16/25\n",
      "7/7 [==============================] - 11s 1s/step - loss: 0.0443 - accuracy: 0.9732\n",
      "Epoch 17/25\n",
      "7/7 [==============================] - 12s 2s/step - loss: 0.0888 - accuracy: 0.9554\n",
      "Epoch 18/25\n",
      "7/7 [==============================] - 12s 2s/step - loss: 0.0766 - accuracy: 0.9732\n",
      "Epoch 19/25\n",
      "7/7 [==============================] - 12s 2s/step - loss: 0.0133 - accuracy: 1.0000\n",
      "Epoch 20/25\n",
      "7/7 [==============================] - 12s 2s/step - loss: 0.0387 - accuracy: 0.9821\n",
      "Epoch 21/25\n",
      "7/7 [==============================] - 12s 2s/step - loss: 0.0063 - accuracy: 1.0000\n",
      "Epoch 22/25\n",
      "7/7 [==============================] - 13s 2s/step - loss: 0.0491 - accuracy: 0.9911\n",
      "Epoch 23/25\n",
      "7/7 [==============================] - 13s 2s/step - loss: 0.0226 - accuracy: 1.0000\n",
      "Epoch 24/25\n",
      "7/7 [==============================] - 11s 1s/step - loss: 0.0181 - accuracy: 1.0000\n",
      "Epoch 25/25\n",
      "7/7 [==============================] - 12s 2s/step - loss: 0.0542 - accuracy: 0.9821\n"
     ]
    }
   ],
   "source": [
    "# Fit the model\n",
    "history = model.fit(\n",
    "    train_generator,\n",
    "    steps_per_epoch=train_generator.samples // 32,\n",
    "    epochs=25,\n",
    "    validation_data=validation_generator,\n",
    "    validation_steps=validation_generator.samples // 32\n",
    ")"
   ]
  },
  {
   "cell_type": "code",
   "execution_count": 24,
   "id": "26f098fc-96f1-49a8-b869-aa85b3777a32",
   "metadata": {},
   "outputs": [
    {
     "name": "stdout",
     "output_type": "stream",
     "text": [
      "history saved successfully!\n"
     ]
    }
   ],
   "source": [
    "history_dict = history.history\n",
    "with open('restNet_history.json', 'w') as f:\n",
    "    json.dump(history_dict, f)\n",
    "print('history saved successfully!')"
   ]
  },
  {
   "cell_type": "code",
   "execution_count": 25,
   "id": "a6a76203-15a5-457c-a42d-5cb096cafa82",
   "metadata": {},
   "outputs": [
    {
     "name": "stdout",
     "output_type": "stream",
     "text": [
      "Model saved successfully!\n"
     ]
    }
   ],
   "source": [
    "# Save the trained model\n",
    "model.save('resNet_model.h5')\n",
    "\n",
    "print(\"Model saved successfully!\")"
   ]
  },
  {
   "cell_type": "markdown",
   "id": "fff206d0-62ea-4e38-8811-7a907560bc97",
   "metadata": {},
   "source": [
    "VGG16"
   ]
  },
  {
   "cell_type": "code",
   "execution_count": 26,
   "id": "c52acc3e-1cab-40c1-ac19-73162869b799",
   "metadata": {},
   "outputs": [],
   "source": [
    "#Load the VGG16 pre-trained model without the top layer\n",
    "base_model = VGG16(include_top=False, weights=\"imagenet\", input_shape=(224, 224, 3))\n",
    "\n",
    "# Freeze the pre-trained layers\n",
    "for layer in base_model.layers:\n",
    "    layer.trainable = False\n",
    "\n",
    "# Build the model architecture\n",
    "x = base_model.output\n",
    "x = GlobalAveragePooling2D()(x)  # Use the output of the last convolutional layer\n",
    "x = Dropout(0.5)(x)  # Adding a dropout layer\n",
    "x = Dense(len(disease_categories), activation=\"softmax\")(x)\n",
    "\n",
    "model = Model(inputs=base_model.input, outputs=x)\n",
    "\n",
    "# Compile the model\n",
    "model.compile(optimizer=\"adam\", loss=\"categorical_crossentropy\", metrics=[\"accuracy\"])"
   ]
  },
  {
   "cell_type": "code",
   "execution_count": 27,
   "id": "d7f8dccc-48d6-4524-a6cb-dc7c57256ef7",
   "metadata": {},
   "outputs": [
    {
     "name": "stdout",
     "output_type": "stream",
     "text": [
      "Epoch 1/25\n",
      "7/7 [==============================] - 18s 2s/step - loss: 1.3979 - accuracy: 0.2768\n",
      "Epoch 2/25\n",
      "7/7 [==============================] - 12s 2s/step - loss: 1.4213 - accuracy: 0.3482\n",
      "Epoch 3/25\n",
      "7/7 [==============================] - 11s 1s/step - loss: 1.3096 - accuracy: 0.3462\n",
      "Epoch 4/25\n",
      "7/7 [==============================] - 12s 2s/step - loss: 1.1792 - accuracy: 0.3571\n",
      "Epoch 5/25\n",
      "7/7 [==============================] - 12s 2s/step - loss: 1.1889 - accuracy: 0.3839\n",
      "Epoch 6/25\n",
      "7/7 [==============================] - 13s 2s/step - loss: 1.0236 - accuracy: 0.5268\n",
      "Epoch 7/25\n",
      "7/7 [==============================] - 13s 2s/step - loss: 1.0411 - accuracy: 0.4904\n",
      "Epoch 8/25\n",
      "7/7 [==============================] - 13s 2s/step - loss: 0.9995 - accuracy: 0.5089\n",
      "Epoch 9/25\n",
      "7/7 [==============================] - 13s 2s/step - loss: 1.0314 - accuracy: 0.4464\n",
      "Epoch 10/25\n",
      "7/7 [==============================] - 12s 2s/step - loss: 1.0576 - accuracy: 0.4231\n",
      "Epoch 11/25\n",
      "7/7 [==============================] - 12s 2s/step - loss: 1.0245 - accuracy: 0.4643\n",
      "Epoch 12/25\n",
      "7/7 [==============================] - 12s 2s/step - loss: 1.0357 - accuracy: 0.4231\n",
      "Epoch 13/25\n",
      "7/7 [==============================] - 13s 2s/step - loss: 0.9422 - accuracy: 0.5804\n",
      "Epoch 14/25\n",
      "7/7 [==============================] - 11s 2s/step - loss: 0.9501 - accuracy: 0.4904\n",
      "Epoch 15/25\n",
      "7/7 [==============================] - 12s 2s/step - loss: 0.9209 - accuracy: 0.5357\n",
      "Epoch 16/25\n",
      "7/7 [==============================] - 11s 2s/step - loss: 0.8722 - accuracy: 0.6518\n",
      "Epoch 17/25\n",
      "7/7 [==============================] - 12s 2s/step - loss: 0.9018 - accuracy: 0.6058\n",
      "Epoch 18/25\n",
      "7/7 [==============================] - 15s 2s/step - loss: 0.8497 - accuracy: 0.7143\n",
      "Epoch 19/25\n",
      "7/7 [==============================] - 15s 2s/step - loss: 0.8580 - accuracy: 0.5962\n",
      "Epoch 20/25\n",
      "7/7 [==============================] - 12s 2s/step - loss: 0.8153 - accuracy: 0.6538\n",
      "Epoch 21/25\n",
      "7/7 [==============================] - 11s 2s/step - loss: 0.8316 - accuracy: 0.6923\n",
      "Epoch 22/25\n",
      "7/7 [==============================] - 13s 2s/step - loss: 0.8456 - accuracy: 0.6607\n",
      "Epoch 23/25\n",
      "7/7 [==============================] - 13s 2s/step - loss: 0.8307 - accuracy: 0.6786\n",
      "Epoch 24/25\n",
      "7/7 [==============================] - 12s 2s/step - loss: 0.8155 - accuracy: 0.6607\n",
      "Epoch 25/25\n",
      "7/7 [==============================] - 13s 2s/step - loss: 0.8067 - accuracy: 0.6875\n"
     ]
    }
   ],
   "source": [
    "# Fit the model\n",
    "history = model.fit(\n",
    "    train_generator,\n",
    "    steps_per_epoch=train_generator.samples // 32,\n",
    "    epochs=25,\n",
    "    validation_data=validation_generator,\n",
    "    validation_steps=validation_generator.samples // 32\n",
    ")"
   ]
  },
  {
   "cell_type": "code",
   "execution_count": 28,
   "id": "4e01c11e-4238-4848-bbdb-39cd9ad64476",
   "metadata": {},
   "outputs": [
    {
     "name": "stdout",
     "output_type": "stream",
     "text": [
      "history saved successfully!\n"
     ]
    }
   ],
   "source": [
    "history_dict = history.history\n",
    "with open('VGG16_history.json', 'w') as f:\n",
    "    json.dump(history_dict, f)\n",
    "print('history saved successfully!')"
   ]
  },
  {
   "cell_type": "code",
   "execution_count": 29,
   "id": "db5c69ae-abc1-413a-887a-85ffc0a7b421",
   "metadata": {},
   "outputs": [
    {
     "name": "stdout",
     "output_type": "stream",
     "text": [
      "Model saved successfully!\n"
     ]
    }
   ],
   "source": [
    "# Save the trained model\n",
    "model.save('VGG16_model.h5')\n",
    "\n",
    "print(\"Model saved successfully!\")"
   ]
  },
  {
   "cell_type": "code",
   "execution_count": 30,
   "id": "b9554670-c16f-423e-912a-0173ab18f305",
   "metadata": {},
   "outputs": [
    {
     "name": "stdout",
     "output_type": "stream",
     "text": [
      "2/2 [==============================] - 6s 4s/step - loss: 0.6843 - accuracy: 0.8333\n",
      "Test Accuracy: 83.33%\n",
      "Test Loss: 0.6843\n",
      "2/2 [==============================] - 4s 2s/step\n"
     ]
    }
   ],
   "source": [
    "# Evaluate the model on the test set\n",
    "test_loss, test_accuracy = model.evaluate(test_generator)\n",
    "\n",
    "print(f\"Test Accuracy: {test_accuracy * 100:.2f}%\")\n",
    "print(f\"Test Loss: {test_loss:.4f}\")\n",
    "\n",
    "# Make predictions on the test set\n",
    "predictions = model.predict(test_generator)\n",
    "predicted_classes = tf.argmax(predictions, axis=1)\n",
    "\n",
    "# Get the true labels\n",
    "true_classes = test_generator.classes"
   ]
  },
  {
   "cell_type": "code",
   "execution_count": 34,
   "id": "240e47af-5321-4169-8d9f-f5d559c2e83c",
   "metadata": {},
   "outputs": [
    {
     "name": "stdout",
     "output_type": "stream",
     "text": [
      "              precision    recall  f1-score   support\n",
      "\n",
      "        cats       0.82      0.90      0.86        10\n",
      "        dogs       0.80      0.80      0.80        10\n",
      "       foxes       0.89      0.80      0.84        10\n",
      "\n",
      "    accuracy                           0.83        30\n",
      "   macro avg       0.84      0.83      0.83        30\n",
      "weighted avg       0.84      0.83      0.83        30\n",
      "\n"
     ]
    },
    {
     "data": {
      "image/png": "[encoded data removed]",
      "text/plain": [
       "<Figure size 1000x800 with 2 Axes>"
      ]
     },
     "metadata": {},
     "output_type": "display_data"
    },
    {
     "data": {
      "text/plain": [
       "<Figure size 640x480 with 0 Axes>"
      ]
     },
     "metadata": {},
     "output_type": "display_data"
    }
   ],
   "source": [
    "\n",
    "# Classification report\n",
    "from sklearn.metrics import classification_report\n",
    "\n",
    "report = classification_report(true_classes, predicted_classes, target_names=test_generator.class_indices.keys())\n",
    "print(report)\n",
    "\n",
    "# Confusion matrix\n",
    "from sklearn.metrics import confusion_matrix\n",
    "import seaborn as sns\n",
    "import matplotlib.pyplot as plt\n",
    "\n",
    "conf_matrix = confusion_matrix(true_classes, predicted_classes)\n",
    "plt.figure(figsize=(10, 8))\n",
    "sns.heatmap(conf_matrix, annot=True, fmt='d', cmap='Blues', xticklabels=test_generator.class_indices.keys(), yticklabels=test_generator.class_indices.keys())\n",
    "plt.xlabel('Predicted Label')\n",
    "plt.ylabel('True Label')\n",
    "plt.title('Confusion Matrix')\n",
    "plt.show()\n",
    "\n",
    "# Save as an image\n",
    "plt.savefig('confusion_matrix.png')\n",
    "plt.show()"
   ]
  },
  {
   "cell_type": "code",
   "execution_count": null,
   "id": "b2d3048c-0d8f-4057-93a8-4c5eacac1cde",
   "metadata": {},
   "outputs": [],
   "source": []
  }
 ],
 "metadata": {
  "kernelspec": {
   "display_name": "Python 3 (ipykernel)",
   "language": "python",
   "name": "python3"
  },
  "language_info": {
   "codemirror_mode": {
    "name": "ipython",
    "version": 3
   },
   "file_extension": ".py",
   "mimetype": "text/x-python",
   "name": "python",
   "nbconvert_exporter": "python",
   "pygments_lexer": "ipython3",
   "version": "3.12.3"
  }
 },
 "nbformat": 4,
 "nbformat_minor": 5
}
